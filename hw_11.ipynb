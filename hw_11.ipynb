{
  "nbformat": 4,
  "nbformat_minor": 0,
  "metadata": {
    "colab": {
      "provenance": [],
      "authorship_tag": "ABX9TyPzaPxzvjpdEB/P5QvXY5GN",
      "include_colab_link": true
    },
    "kernelspec": {
      "name": "python3",
      "display_name": "Python 3"
    },
    "language_info": {
      "name": "python"
    }
  },
  "cells": [
    {
      "cell_type": "markdown",
      "metadata": {
        "id": "view-in-github",
        "colab_type": "text"
      },
      "source": [
        "<a href=\"https://colab.research.google.com/github/Kostiantyn-Liapkalo/RNN_LSTM_Keras/blob/Main/hw_11.ipynb\" target=\"_parent\"><img src=\"https://colab.research.google.com/assets/colab-badge.svg\" alt=\"Open In Colab\"/></a>"
      ]
    },
    {
      "cell_type": "code",
      "execution_count": 1,
      "metadata": {
        "id": "EKqY2V0YJwrG"
      },
      "outputs": [],
      "source": [
        "import time\n",
        "import numpy as np\n",
        "import pandas as pd\n",
        "import matplotlib.pyplot as plt\n",
        "from keras.datasets import imdb\n",
        "from keras.utils import pad_sequences\n",
        "from keras.models import Sequential\n",
        "from keras.layers import Embedding, SimpleRNN, Dense, Dropout, LSTM"
      ]
    },
    {
      "cell_type": "code",
      "source": [
        "max_features = 10000\n",
        "maxlen = 500\n",
        "batch_size = 256\n",
        "epochs = 7\n",
        "\n",
        "(input_train, y_train), (input_test, y_test) = imdb.load_data(num_words=max_features)\n",
        "\n",
        "input_train = pad_sequences(input_train, maxlen=maxlen)\n",
        "input_test = pad_sequences(input_test, maxlen=maxlen)"
      ],
      "metadata": {
        "colab": {
          "base_uri": "https://localhost:8080/"
        },
        "id": "nRRCvSxkLWpl",
        "outputId": "fc9f73ac-88aa-43b4-a6db-a7e64720e2a9"
      },
      "execution_count": 2,
      "outputs": [
        {
          "output_type": "stream",
          "name": "stdout",
          "text": [
            "Downloading data from https://storage.googleapis.com/tensorflow/tf-keras-datasets/imdb.npz\n",
            "17464789/17464789 [==============================] - 0s 0us/step\n"
          ]
        }
      ]
    },
    {
      "cell_type": "markdown",
      "source": [
        "Simple_RNN"
      ],
      "metadata": {
        "id": "ebjKq9y4LdEo"
      }
    },
    {
      "cell_type": "code",
      "source": [
        "start_time = time.time()\n",
        "\n",
        "model = Sequential()\n",
        "model.add(Embedding(max_features, 32))\n",
        "model.add(Dropout(0.5))\n",
        "model.add(SimpleRNN(32))\n",
        "model.add(Dropout(0.5))\n",
        "model.add(Dense(1, activation='sigmoid'))\n",
        "\n",
        "model.compile(optimizer='rmsprop', loss='binary_crossentropy', metrics=['acc'])\n",
        "history_rnn = model.fit(input_train, y_train, epochs=epochs, batch_size=batch_size, validation_split=0.3)\n",
        "\n",
        "elapsed_time = time.time() - start_time\n",
        "print(f\"\\nTotal training time: {elapsed_time:.2f} seconds\")"
      ],
      "metadata": {
        "colab": {
          "base_uri": "https://localhost:8080/"
        },
        "id": "fyWJYUSbLe-j",
        "outputId": "895c16b8-33da-4ee7-dfa9-d3da2f4e8b30"
      },
      "execution_count": 3,
      "outputs": [
        {
          "output_type": "stream",
          "name": "stdout",
          "text": [
            "Epoch 1/7\n",
            "69/69 [==============================] - 30s 337ms/step - loss: 0.6950 - acc: 0.5174 - val_loss: 0.6837 - val_acc: 0.5723\n",
            "Epoch 2/7\n",
            "69/69 [==============================] - 19s 272ms/step - loss: 0.6594 - acc: 0.6133 - val_loss: 0.5924 - val_acc: 0.7235\n",
            "Epoch 3/7\n",
            "69/69 [==============================] - 18s 263ms/step - loss: 0.5360 - acc: 0.7582 - val_loss: 0.5561 - val_acc: 0.7137\n",
            "Epoch 4/7\n",
            "69/69 [==============================] - 19s 267ms/step - loss: 0.4535 - acc: 0.8084 - val_loss: 0.4227 - val_acc: 0.8165\n",
            "Epoch 5/7\n",
            "69/69 [==============================] - 19s 270ms/step - loss: 0.4047 - acc: 0.8327 - val_loss: 0.3862 - val_acc: 0.8376\n",
            "Epoch 6/7\n",
            "69/69 [==============================] - 21s 299ms/step - loss: 0.3500 - acc: 0.8618 - val_loss: 0.3738 - val_acc: 0.8465\n",
            "Epoch 7/7\n",
            "69/69 [==============================] - 19s 272ms/step - loss: 0.3413 - acc: 0.8668 - val_loss: 0.4083 - val_acc: 0.8391\n",
            "\n",
            "Total training time: 149.17 seconds\n"
          ]
        }
      ]
    },
    {
      "cell_type": "markdown",
      "source": [
        "LSTM"
      ],
      "metadata": {
        "id": "05ieYdZ5MN_x"
      }
    },
    {
      "cell_type": "code",
      "source": [
        "start_time = time.time()\n",
        "\n",
        "model = Sequential()\n",
        "model.add(Embedding(max_features, 32))\n",
        "model.add(Dropout(0.5))\n",
        "model.add(LSTM(32))\n",
        "model.add(Dropout(0.5))\n",
        "model.add(Dense(1, activation='sigmoid'))\n",
        "\n",
        "model.compile(optimizer='rmsprop', loss='binary_crossentropy', metrics=['acc'])\n",
        "history_lstm = model.fit(input_train, y_train, epochs=epochs, batch_size=batch_size, validation_split=0.3)\n",
        "\n",
        "elapsed_time = time.time() - start_time\n",
        "print(f\"\\nTotal training time: {elapsed_time:.2f} seconds\")"
      ],
      "metadata": {
        "colab": {
          "base_uri": "https://localhost:8080/"
        },
        "id": "-hKCg2mLMPjj",
        "outputId": "a3771e00-d7ec-485d-dba2-ac45980f043c"
      },
      "execution_count": 4,
      "outputs": [
        {
          "output_type": "stream",
          "name": "stdout",
          "text": [
            "Epoch 1/7\n",
            "69/69 [==============================] - 49s 678ms/step - loss: 0.6893 - acc: 0.5551 - val_loss: 0.6690 - val_acc: 0.6784\n",
            "Epoch 2/7\n",
            "69/69 [==============================] - 42s 604ms/step - loss: 0.5545 - acc: 0.7356 - val_loss: 0.4044 - val_acc: 0.8340\n",
            "Epoch 3/7\n",
            "69/69 [==============================] - 47s 682ms/step - loss: 0.4121 - acc: 0.8303 - val_loss: 0.3344 - val_acc: 0.8681\n",
            "Epoch 4/7\n",
            "69/69 [==============================] - 41s 602ms/step - loss: 0.3353 - acc: 0.8681 - val_loss: 0.3552 - val_acc: 0.8507\n",
            "Epoch 5/7\n",
            "69/69 [==============================] - 41s 598ms/step - loss: 0.2990 - acc: 0.8819 - val_loss: 0.3714 - val_acc: 0.8355\n",
            "Epoch 6/7\n",
            "69/69 [==============================] - 47s 680ms/step - loss: 0.2689 - acc: 0.8956 - val_loss: 0.3060 - val_acc: 0.8792\n",
            "Epoch 7/7\n",
            "69/69 [==============================] - 42s 617ms/step - loss: 0.2436 - acc: 0.9092 - val_loss: 0.5563 - val_acc: 0.8152\n",
            "\n",
            "Total training time: 324.61 seconds\n"
          ]
        }
      ]
    },
    {
      "cell_type": "markdown",
      "source": [
        "Bidirectional_LSTM"
      ],
      "metadata": {
        "id": "UmOdxh19PLPm"
      }
    },
    {
      "cell_type": "code",
      "source": [
        "from keras.layers import Bidirectional\n",
        "\n",
        "start_time = time.time()\n",
        "\n",
        "model = Sequential()\n",
        "model.add(Embedding(max_features, 32))\n",
        "model.add(Dropout(0.5))\n",
        "model.add(Bidirectional(LSTM(32)))\n",
        "model.add(Dropout(0.5))\n",
        "model.add(Dense(1, activation='sigmoid'))\n",
        "\n",
        "model.compile(optimizer='rmsprop', loss='binary_crossentropy', metrics=['acc'])\n",
        "history_bidirectional = model.fit(input_train, y_train, epochs=epochs, batch_size=batch_size, validation_split=0.3)\n",
        "\n",
        "elapsed_time = time.time() - start_time\n",
        "print(f\"\\nTotal training time: {elapsed_time:.2f} seconds\")"
      ],
      "metadata": {
        "colab": {
          "base_uri": "https://localhost:8080/"
        },
        "id": "CFcZsMQGPNJ7",
        "outputId": "a0364692-5a7a-48a1-d240-8ef1cf88cb88"
      },
      "execution_count": 5,
      "outputs": [
        {
          "output_type": "stream",
          "name": "stdout",
          "text": [
            "Epoch 1/7\n",
            "69/69 [==============================] - 107s 1s/step - loss: 0.6916 - acc: 0.5326 - val_loss: 0.6882 - val_acc: 0.5132\n",
            "Epoch 2/7\n",
            "69/69 [==============================] - 77s 1s/step - loss: 0.6051 - acc: 0.6837 - val_loss: 0.4940 - val_acc: 0.7833\n",
            "Epoch 3/7\n",
            "69/69 [==============================] - 76s 1s/step - loss: 0.4446 - acc: 0.8107 - val_loss: 0.4357 - val_acc: 0.7943\n",
            "Epoch 4/7\n",
            "69/69 [==============================] - 76s 1s/step - loss: 0.3736 - acc: 0.8493 - val_loss: 0.3354 - val_acc: 0.8651\n",
            "Epoch 5/7\n",
            "69/69 [==============================] - 75s 1s/step - loss: 0.3190 - acc: 0.8788 - val_loss: 0.3989 - val_acc: 0.8397\n",
            "Epoch 6/7\n",
            "69/69 [==============================] - 75s 1s/step - loss: 0.2861 - acc: 0.8903 - val_loss: 0.4352 - val_acc: 0.7985\n",
            "Epoch 7/7\n",
            "69/69 [==============================] - 74s 1s/step - loss: 0.2623 - acc: 0.8987 - val_loss: 0.2904 - val_acc: 0.8852\n",
            "\n",
            "Total training time: 567.71 seconds\n"
          ]
        }
      ]
    },
    {
      "cell_type": "markdown",
      "source": [
        "Deep_LSTM"
      ],
      "metadata": {
        "id": "lOsKIwsrPQLR"
      }
    },
    {
      "cell_type": "code",
      "source": [
        "start_time = time.time()\n",
        "\n",
        "model = Sequential()\n",
        "model.add(Embedding(max_features, 32))\n",
        "model.add(Dropout(0.5))\n",
        "model.add(LSTM(32, return_sequences=True))\n",
        "model.add(Dropout(0.5))\n",
        "model.add(LSTM(32, return_sequences=True))\n",
        "model.add(Dropout(0.5))\n",
        "model.add(LSTM(32))\n",
        "model.add(Dense(1, activation='sigmoid'))\n",
        "\n",
        "model.compile(optimizer='rmsprop', loss='binary_crossentropy', metrics=['acc'])\n",
        "history_deep = model.fit(input_train, y_train, epochs=epochs, batch_size=batch_size, validation_split=0.3)\n",
        "\n",
        "elapsed_time = time.time() - start_time\n",
        "print(f\"\\nTotal training time: {elapsed_time:.2f} seconds\")"
      ],
      "metadata": {
        "colab": {
          "base_uri": "https://localhost:8080/"
        },
        "id": "z4YDlZ6wPX0N",
        "outputId": "76a0bda4-b9b1-42f4-add7-39175fa5cc64"
      },
      "execution_count": 6,
      "outputs": [
        {
          "output_type": "stream",
          "name": "stdout",
          "text": [
            "Epoch 1/7\n",
            "69/69 [==============================] - 138s 2s/step - loss: 0.6926 - acc: 0.5118 - val_loss: 0.6881 - val_acc: 0.6144\n",
            "Epoch 2/7\n",
            "69/69 [==============================] - 129s 2s/step - loss: 0.5767 - acc: 0.6979 - val_loss: 0.4667 - val_acc: 0.7979\n",
            "Epoch 3/7\n",
            "69/69 [==============================] - 127s 2s/step - loss: 0.4153 - acc: 0.8166 - val_loss: 0.3987 - val_acc: 0.8248\n",
            "Epoch 4/7\n",
            "69/69 [==============================] - 130s 2s/step - loss: 0.3293 - acc: 0.8675 - val_loss: 0.3427 - val_acc: 0.8557\n",
            "Epoch 5/7\n",
            "69/69 [==============================] - 133s 2s/step - loss: 0.2928 - acc: 0.8849 - val_loss: 0.3204 - val_acc: 0.8743\n",
            "Epoch 6/7\n",
            "69/69 [==============================] - 126s 2s/step - loss: 0.2606 - acc: 0.9008 - val_loss: 0.3542 - val_acc: 0.8635\n",
            "Epoch 7/7\n",
            "69/69 [==============================] - 133s 2s/step - loss: 0.2394 - acc: 0.9101 - val_loss: 0.3294 - val_acc: 0.8823\n",
            "\n",
            "Total training time: 928.55 seconds\n"
          ]
        }
      ]
    },
    {
      "cell_type": "code",
      "source": [
        "import matplotlib.pyplot as plt\n",
        "\n",
        "def plot_history(histories, title):\n",
        "    plt.figure(figsize=(16, 8))\n",
        "\n",
        "    # Accuracy subplot\n",
        "    plt.subplot(1, 2, 1)\n",
        "    for name, history in histories:\n",
        "\n",
        "        plt.plot(history.history['val_acc'], label=f'{name} Val Acc')\n",
        "    plt.title('Model Accuracy')\n",
        "    plt.ylabel('Accuracy')\n",
        "    plt.xlabel('Epoch')\n",
        "    plt.legend(loc='upper left')\n",
        "    plt.grid()\n",
        "\n",
        "    # Loss subplot\n",
        "    plt.subplot(1, 2, 2)\n",
        "    for name, history in histories:\n",
        "\n",
        "        plt.plot(history.history['val_loss'], label=f'{name} Val Loss')\n",
        "    plt.title('Model Loss')\n",
        "    plt.ylabel('Loss')\n",
        "    plt.xlabel('Epoch')\n",
        "    plt.legend(loc='upper left')\n",
        "    plt.grid()\n",
        "\n",
        "    plt.tight_layout()\n",
        "    plt.suptitle(title, fontsize=16)\n",
        "    plt.subplots_adjust(top=0.9)  # Adjust title position\n",
        "    plt.show()"
      ],
      "metadata": {
        "id": "BAGL9GtvPe7Q"
      },
      "execution_count": 17,
      "outputs": []
    },
    {
      "cell_type": "code",
      "source": [
        "# Список історій для порівняння\n",
        "histories = [\n",
        "    (\"Simple RNN\", history_rnn),\n",
        "    (\"LSTM\", history_lstm),\n",
        "    (\"Bidirectional LSTM\", history_bidirectional),\n",
        "    (\"Deep LSTM\", history_deep)\n",
        "]\n",
        "\n",
        "for name, history in histories:\n",
        "\n",
        "    train_acc = history.history['acc'][-1]\n",
        "    _, test_acc = history.model.evaluate(input_test, y_test, verbose=0)\n",
        "\n",
        "    print(f\"{name}:\")\n",
        "    print(f\"Train accuracy: {train_acc:.4f} | Test accuracy: {test_acc:.4f} | Difference accuracy: {(train_acc - test_acc)*100:.2f}%\")\n",
        "    print(\"-\"*75)"
      ],
      "metadata": {
        "colab": {
          "base_uri": "https://localhost:8080/"
        },
        "id": "zojibPclPjOQ",
        "outputId": "33bce3bb-573f-4a33-f216-bf8de54a4618"
      },
      "execution_count": 16,
      "outputs": [
        {
          "output_type": "stream",
          "name": "stdout",
          "text": [
            "Simple RNN:\n",
            "Train accuracy: 0.8668 | Test accuracy: 0.8318 | Difference accuracy: 3.50%\n",
            "---------------------------------------------------------------------------\n",
            "LSTM:\n",
            "Train accuracy: 0.9092 | Test accuracy: 0.8062 | Difference accuracy: 10.30%\n",
            "---------------------------------------------------------------------------\n",
            "Bidirectional LSTM:\n",
            "Train accuracy: 0.8987 | Test accuracy: 0.8806 | Difference accuracy: 1.81%\n",
            "---------------------------------------------------------------------------\n",
            "Deep LSTM:\n",
            "Train accuracy: 0.9101 | Test accuracy: 0.8723 | Difference accuracy: 3.77%\n",
            "---------------------------------------------------------------------------\n"
          ]
        }
      ]
    },
    {
      "cell_type": "markdown",
      "source": [
        "Серед усіх моделей точність LSTM є найнижчою 80,62% та має середній час навчання 324.61 seconds. Bidirectional LSTM, Deep LSTM приблизно однаковий результат. Найкраща модель Simple_RNN, яка показала точність 83,18% і найменьший час навчання 149.17 seconds. imdb виявився складним датасетом для високої точності."
      ],
      "metadata": {
        "id": "XHSHm-bNPo6L"
      }
    }
  ]
}